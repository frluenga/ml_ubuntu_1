{
 "cells": [
  {
   "cell_type": "code",
   "execution_count": 1,
   "metadata": {},
   "outputs": [],
   "source": [
    "import pandas as pd\n",
    "import sklearn\n",
    "import matplotlib.pyplot as plt\n",
    "\n",
    "from sklearn.decomposition import PCA\n",
    "from sklearn.decomposition import IncrementalPCA\n",
    "\n",
    "from sklearn.linear_model import LogisticRegression\n",
    "from sklearn.preprocessing import StandardScaler\n",
    "from sklearn.model_selection import train_test_split"
   ]
  },
  {
   "cell_type": "code",
   "execution_count": 6,
   "metadata": {},
   "outputs": [
    {
     "data": {
      "image/png": "[encoded data removed]",
      "text/plain": [
       "<Figure size 432x288 with 1 Axes>"
      ]
     },
     "metadata": {
      "needs_background": "light"
     },
     "output_type": "display_data"
    }
   ],
   "source": [
    "dt_heart = pd.read_csv(\"./heart.csv\")\n",
    "# print(dt_heart.head(5))\n",
    "\n",
    "X = dt_heart.drop(['target'],axis=1)\n",
    "y = dt_heart['target']\n",
    "\n",
    "## Sobre escribimos la variable con datos estandarizados\n",
    "X = StandardScaler().fit_transform(X)\n",
    "    \n",
    "X_train,X_test,y_train,y_test = train_test_split(X,y,test_size=0.3,random_state=42)\n",
    "\n",
    "# Por defecto el numero de componentes es igual\n",
    "# al minimo de numero de muestras y minimo de features\n",
    "# es decir mismo numero de columnas y de componentes\n",
    "pca = PCA(n_components=3)\n",
    "pca.fit(X_train)\n",
    "\n",
    "## No manda todos los datos a entrenar al tiempo,\n",
    "# por eso va entrenandolos poco a poco\n",
    "ipca = IncrementalPCA(n_components=3,batch_size=10)\n",
    "ipca.fit(X_train)\n",
    "\n",
    "plt.plot(range(len(pca.explained_variance_)),pca.explained_variance_ratio_)\n",
    "plt.show()"
   ]
  },
  {
   "cell_type": "code",
   "execution_count": 7,
   "metadata": {},
   "outputs": [
    {
     "name": "stdout",
     "output_type": "stream",
     "text": [
      "SCORE PCA:  0.7857142857142857\n",
      "SCORE PCA:  0.8051948051948052\n"
     ]
    }
   ],
   "source": [
    "logistic = LogisticRegression(solver='lbfgs')\n",
    "\n",
    "dt_train = pca.transform(X_train)\n",
    "dt_test = pca.transform(X_test)\n",
    "logistic.fit(dt_train,y_train)\n",
    "print('SCORE PCA: ' , logistic.score(dt_test,y_test))\n",
    "    \n",
    "dt_train = ipca.transform(X_train)\n",
    "dt_test = ipca.transform(X_test)\n",
    "logistic.fit(dt_train,y_train)\n",
    "print('SCORE PCA: ' , logistic.score(dt_test,y_test))"
   ]
  },
  {
   "cell_type": "code",
   "execution_count": 8,
   "metadata": {},
   "outputs": [],
   "source": [
    "from sklearn.decomposition import KernelPCA"
   ]
  },
  {
   "cell_type": "code",
   "execution_count": 9,
   "metadata": {},
   "outputs": [
    {
     "name": "stdout",
     "output_type": "stream",
     "text": [
      "PCA Kernel Score: 0.7987012987012987\n"
     ]
    }
   ],
   "source": [
    "kpca = KernelPCA(n_components=4,kernel = \"poly\")\n",
    "kpca.fit(X_train)\n",
    "\n",
    "dt_train = kpca.transform(X_train)\n",
    "dt_test = kpca.transform(X_test)\n",
    "\n",
    "logistic = LogisticRegression(solver='lbfgs')\n",
    "logistic.fit(dt_train,y_train)\n",
    "\n",
    "print(f'PCA Kernel Score: {logistic.score(dt_test,y_test)}')"
   ]
  }
 ],
 "metadata": {
  "interpreter": {
   "hash": "8bb79300dc1549a2a31fb0b0fd7b08596d268b1570a6503be133e0111b9b7d49"
  },
  "kernelspec": {
   "display_name": "Python 3.9.7 64-bit ('py39': conda)",
   "language": "python",
   "name": "python3"
  },
  "language_info": {
   "codemirror_mode": {
    "name": "ipython",
    "version": 3
   },
   "file_extension": ".py",
   "mimetype": "text/x-python",
   "name": "python",
   "nbconvert_exporter": "python",
   "pygments_lexer": "ipython3",
   "version": "3.9.7"
  },
  "orig_nbformat": 4
 },
 "nbformat": 4,
 "nbformat_minor": 2
}
