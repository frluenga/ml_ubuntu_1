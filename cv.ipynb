{
 "cells": [
  {
   "cell_type": "code",
   "execution_count": 13,
   "metadata": {},
   "outputs": [],
   "source": [
    "import pandas as pd\n",
    "import numpy as np\n",
    "from sklearn.tree import DecisionTreeRegressor\n",
    "from sklearn.model_selection import (\n",
    "    cross_val_score, KFold,train_test_split\n",
    ")"
   ]
  },
  {
   "cell_type": "code",
   "execution_count": 4,
   "metadata": {},
   "outputs": [],
   "source": [
    "df = pd.read_csv('./felicidad.csv')"
   ]
  },
  {
   "cell_type": "code",
   "execution_count": 20,
   "metadata": {},
   "outputs": [
    {
     "name": "stdout",
     "output_type": "stream",
     "text": [
      "RMSE : 0.4604497617416354\n"
     ]
    }
   ],
   "source": [
    "X = df.drop(['country','score','rank'],axis=1)\n",
    "y = df['score']\n",
    "\n",
    "model = DecisionTreeRegressor()\n",
    "score = cross_val_score(model,X,y,cv=5,scoring='neg_mean_squared_error')\n",
    "\n",
    "print('RMSE :',np.sqrt(np.mean(-score)))"
   ]
  },
  {
   "cell_type": "code",
   "execution_count": 15,
   "metadata": {},
   "outputs": [],
   "source": [
    "X_train,X_test,y_train,y_test=train_test_split(X,y,test_size=0.2,random_state=42)"
   ]
  },
  {
   "cell_type": "code",
   "execution_count": 17,
   "metadata": {},
   "outputs": [
    {
     "data": {
      "text/plain": [
       "count    155.000000\n",
       "mean       5.354019\n",
       "std        1.131230\n",
       "min        2.693000\n",
       "25%        4.505500\n",
       "50%        5.279000\n",
       "75%        6.101500\n",
       "max        7.537000\n",
       "Name: score, dtype: float64"
      ]
     },
     "execution_count": 17,
     "metadata": {},
     "output_type": "execute_result"
    }
   ],
   "source": [
    "df.score.describe()"
   ]
  },
  {
   "cell_type": "code",
   "execution_count": 19,
   "metadata": {},
   "outputs": [],
   "source": []
  },
  {
   "cell_type": "code",
   "execution_count": 25,
   "metadata": {},
   "outputs": [
    {
     "name": "stdout",
     "output_type": "stream",
     "text": [
      "Fitting 3 folds for each of 10 candidates, totalling 30 fits\n"
     ]
    },
    {
     "name": "stderr",
     "output_type": "stream",
     "text": [
      "/home/frluengas/anaconda3/envs/py39/lib/python3.9/site-packages/sklearn/ensemble/_forest.py:395: FutureWarning: Criterion 'mae' was deprecated in v1.0 and will be removed in version 1.2. Use `criterion='absolute_error'` which is equivalent.\n",
      "  warn(\n",
      "/home/frluengas/anaconda3/envs/py39/lib/python3.9/site-packages/sklearn/ensemble/_forest.py:395: FutureWarning: Criterion 'mae' was deprecated in v1.0 and will be removed in version 1.2. Use `criterion='absolute_error'` which is equivalent.\n",
      "  warn(\n",
      "/home/frluengas/anaconda3/envs/py39/lib/python3.9/site-packages/sklearn/ensemble/_forest.py:395: FutureWarning: Criterion 'mae' was deprecated in v1.0 and will be removed in version 1.2. Use `criterion='absolute_error'` which is equivalent.\n",
      "  warn(\n",
      "/home/frluengas/anaconda3/envs/py39/lib/python3.9/site-packages/sklearn/ensemble/_forest.py:388: FutureWarning: Criterion 'mse' was deprecated in v1.0 and will be removed in version 1.2. Use `criterion='squared_error'` which is equivalent.\n",
      "  warn(\n",
      "/home/frluengas/anaconda3/envs/py39/lib/python3.9/site-packages/sklearn/ensemble/_forest.py:388: FutureWarning: Criterion 'mse' was deprecated in v1.0 and will be removed in version 1.2. Use `criterion='squared_error'` which is equivalent.\n",
      "  warn(\n",
      "/home/frluengas/anaconda3/envs/py39/lib/python3.9/site-packages/sklearn/ensemble/_forest.py:388: FutureWarning: Criterion 'mse' was deprecated in v1.0 and will be removed in version 1.2. Use `criterion='squared_error'` which is equivalent.\n",
      "  warn(\n",
      "/home/frluengas/anaconda3/envs/py39/lib/python3.9/site-packages/sklearn/ensemble/_forest.py:388: FutureWarning: Criterion 'mse' was deprecated in v1.0 and will be removed in version 1.2. Use `criterion='squared_error'` which is equivalent.\n",
      "  warn(\n",
      "/home/frluengas/anaconda3/envs/py39/lib/python3.9/site-packages/sklearn/ensemble/_forest.py:388: FutureWarning: Criterion 'mse' was deprecated in v1.0 and will be removed in version 1.2. Use `criterion='squared_error'` which is equivalent.\n",
      "  warn(\n",
      "/home/frluengas/anaconda3/envs/py39/lib/python3.9/site-packages/sklearn/ensemble/_forest.py:388: FutureWarning: Criterion 'mse' was deprecated in v1.0 and will be removed in version 1.2. Use `criterion='squared_error'` which is equivalent.\n",
      "  warn(\n",
      "/home/frluengas/anaconda3/envs/py39/lib/python3.9/site-packages/sklearn/ensemble/_forest.py:395: FutureWarning: Criterion 'mae' was deprecated in v1.0 and will be removed in version 1.2. Use `criterion='absolute_error'` which is equivalent.\n",
      "  warn(\n",
      "/home/frluengas/anaconda3/envs/py39/lib/python3.9/site-packages/sklearn/ensemble/_forest.py:395: FutureWarning: Criterion 'mae' was deprecated in v1.0 and will be removed in version 1.2. Use `criterion='absolute_error'` which is equivalent.\n",
      "  warn(\n",
      "/home/frluengas/anaconda3/envs/py39/lib/python3.9/site-packages/sklearn/ensemble/_forest.py:395: FutureWarning: Criterion 'mae' was deprecated in v1.0 and will be removed in version 1.2. Use `criterion='absolute_error'` which is equivalent.\n",
      "  warn(\n",
      "/home/frluengas/anaconda3/envs/py39/lib/python3.9/site-packages/sklearn/ensemble/_forest.py:395: FutureWarning: Criterion 'mae' was deprecated in v1.0 and will be removed in version 1.2. Use `criterion='absolute_error'` which is equivalent.\n",
      "  warn(\n",
      "/home/frluengas/anaconda3/envs/py39/lib/python3.9/site-packages/sklearn/ensemble/_forest.py:395: FutureWarning: Criterion 'mae' was deprecated in v1.0 and will be removed in version 1.2. Use `criterion='absolute_error'` which is equivalent.\n",
      "  warn(\n",
      "/home/frluengas/anaconda3/envs/py39/lib/python3.9/site-packages/sklearn/ensemble/_forest.py:395: FutureWarning: Criterion 'mae' was deprecated in v1.0 and will be removed in version 1.2. Use `criterion='absolute_error'` which is equivalent.\n",
      "  warn(\n",
      "/home/frluengas/anaconda3/envs/py39/lib/python3.9/site-packages/sklearn/ensemble/_forest.py:395: FutureWarning: Criterion 'mae' was deprecated in v1.0 and will be removed in version 1.2. Use `criterion='absolute_error'` which is equivalent.\n",
      "  warn(\n",
      "/home/frluengas/anaconda3/envs/py39/lib/python3.9/site-packages/sklearn/ensemble/_forest.py:395: FutureWarning: Criterion 'mae' was deprecated in v1.0 and will be removed in version 1.2. Use `criterion='absolute_error'` which is equivalent.\n",
      "  warn(\n",
      "/home/frluengas/anaconda3/envs/py39/lib/python3.9/site-packages/sklearn/ensemble/_forest.py:395: FutureWarning: Criterion 'mae' was deprecated in v1.0 and will be removed in version 1.2. Use `criterion='absolute_error'` which is equivalent.\n",
      "  warn(\n",
      "/home/frluengas/anaconda3/envs/py39/lib/python3.9/site-packages/sklearn/ensemble/_forest.py:395: FutureWarning: Criterion 'mae' was deprecated in v1.0 and will be removed in version 1.2. Use `criterion='absolute_error'` which is equivalent.\n",
      "  warn(\n",
      "/home/frluengas/anaconda3/envs/py39/lib/python3.9/site-packages/sklearn/ensemble/_forest.py:395: FutureWarning: Criterion 'mae' was deprecated in v1.0 and will be removed in version 1.2. Use `criterion='absolute_error'` which is equivalent.\n",
      "  warn(\n",
      "/home/frluengas/anaconda3/envs/py39/lib/python3.9/site-packages/sklearn/ensemble/_forest.py:395: FutureWarning: Criterion 'mae' was deprecated in v1.0 and will be removed in version 1.2. Use `criterion='absolute_error'` which is equivalent.\n",
      "  warn(\n",
      "/home/frluengas/anaconda3/envs/py39/lib/python3.9/site-packages/sklearn/ensemble/_forest.py:395: FutureWarning: Criterion 'mae' was deprecated in v1.0 and will be removed in version 1.2. Use `criterion='absolute_error'` which is equivalent.\n",
      "  warn(\n",
      "/home/frluengas/anaconda3/envs/py39/lib/python3.9/site-packages/sklearn/ensemble/_forest.py:395: FutureWarning: Criterion 'mae' was deprecated in v1.0 and will be removed in version 1.2. Use `criterion='absolute_error'` which is equivalent.\n",
      "  warn(\n",
      "/home/frluengas/anaconda3/envs/py39/lib/python3.9/site-packages/sklearn/ensemble/_forest.py:395: FutureWarning: Criterion 'mae' was deprecated in v1.0 and will be removed in version 1.2. Use `criterion='absolute_error'` which is equivalent.\n",
      "  warn(\n",
      "/home/frluengas/anaconda3/envs/py39/lib/python3.9/site-packages/sklearn/ensemble/_forest.py:395: FutureWarning: Criterion 'mae' was deprecated in v1.0 and will be removed in version 1.2. Use `criterion='absolute_error'` which is equivalent.\n",
      "  warn(\n",
      "/home/frluengas/anaconda3/envs/py39/lib/python3.9/site-packages/sklearn/ensemble/_forest.py:395: FutureWarning: Criterion 'mae' was deprecated in v1.0 and will be removed in version 1.2. Use `criterion='absolute_error'` which is equivalent.\n",
      "  warn(\n",
      "/home/frluengas/anaconda3/envs/py39/lib/python3.9/site-packages/sklearn/ensemble/_forest.py:395: FutureWarning: Criterion 'mae' was deprecated in v1.0 and will be removed in version 1.2. Use `criterion='absolute_error'` which is equivalent.\n",
      "  warn(\n",
      "/home/frluengas/anaconda3/envs/py39/lib/python3.9/site-packages/sklearn/ensemble/_forest.py:395: FutureWarning: Criterion 'mae' was deprecated in v1.0 and will be removed in version 1.2. Use `criterion='absolute_error'` which is equivalent.\n",
      "  warn(\n",
      "/home/frluengas/anaconda3/envs/py39/lib/python3.9/site-packages/sklearn/ensemble/_forest.py:395: FutureWarning: Criterion 'mae' was deprecated in v1.0 and will be removed in version 1.2. Use `criterion='absolute_error'` which is equivalent.\n",
      "  warn(\n",
      "/home/frluengas/anaconda3/envs/py39/lib/python3.9/site-packages/sklearn/ensemble/_forest.py:395: FutureWarning: Criterion 'mae' was deprecated in v1.0 and will be removed in version 1.2. Use `criterion='absolute_error'` which is equivalent.\n",
      "  warn(\n",
      "/home/frluengas/anaconda3/envs/py39/lib/python3.9/site-packages/sklearn/ensemble/_forest.py:395: FutureWarning: Criterion 'mae' was deprecated in v1.0 and will be removed in version 1.2. Use `criterion='absolute_error'` which is equivalent.\n",
      "  warn(\n"
     ]
    },
    {
     "data": {
      "text/plain": [
       "{'n_estimators': 14, 'max_depth': 6, 'criterion': 'mae'}"
      ]
     },
     "execution_count": 25,
     "metadata": {},
     "output_type": "execute_result"
    }
   ],
   "source": [
    "from sklearn.ensemble import RandomForestRegressor\n",
    "from sklearn.model_selection import RandomizedSearchCV\n",
    "\n",
    "reg = RandomForestRegressor()\n",
    "\n",
    "hyperparameter_grid = {\n",
    "    'n_estimators': range(4,16),\n",
    "    'criterion' : ['mse','mae'],\n",
    "    'max_depth' : range(2,16)\n",
    "}\n",
    "\n",
    "rand_est = RandomizedSearchCV(reg,hyperparameter_grid,n_iter=10,cv=3,\n",
    "    scoring='neg_mean_absolute_error',verbose=True).fit(X,y)\n",
    "\n",
    "rand_est.best_params_"
   ]
  },
  {
   "cell_type": "code",
   "execution_count": 29,
   "metadata": {},
   "outputs": [
    {
     "data": {
      "text/plain": [
       "(array([7.52225004]), 7.537000179)"
      ]
     },
     "execution_count": 29,
     "metadata": {},
     "output_type": "execute_result"
    }
   ],
   "source": [
    "rand_est.predict(X.loc[[0]]),y.loc[0]"
   ]
  }
 ],
 "metadata": {
  "interpreter": {
   "hash": "8bb79300dc1549a2a31fb0b0fd7b08596d268b1570a6503be133e0111b9b7d49"
  },
  "kernelspec": {
   "display_name": "Python 3.9.7 64-bit ('py39': conda)",
   "language": "python",
   "name": "python3"
  },
  "language_info": {
   "codemirror_mode": {
    "name": "ipython",
    "version": 3
   },
   "file_extension": ".py",
   "mimetype": "text/x-python",
   "name": "python",
   "nbconvert_exporter": "python",
   "pygments_lexer": "ipython3",
   "version": "3.9.7"
  },
  "orig_nbformat": 4
 },
 "nbformat": 4,
 "nbformat_minor": 2
}
