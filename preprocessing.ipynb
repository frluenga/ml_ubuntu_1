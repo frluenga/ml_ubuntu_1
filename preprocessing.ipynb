{
 "cells": [
  {
   "cell_type": "markdown",
   "metadata": {},
   "source": [
    "## Identificar los datos atipicos.\n",
    "1. Metodo estadistico, a traves del z-score. mide la distancia en desviasiones estandar de un punto a la media.\n",
    "2. Tecnicas de clustering como DBSCAN.\n",
    "3. Si q< Q1-1.5*IQR Ó q > Q3 + 1.5 * IQR\n",
    "\n",
    "### Identificar los atipicos con Boxplot\n",
    "hace referencia al 1.5 veces el rango intercuartilico mas el Q3 y 1.5 menos veces el rango intercuartilico al Q1."
   ]
  },
  {
   "cell_type": "markdown",
   "metadata": {},
   "source": [
    "### Lidear con los valores atipicos en la construcción de modelos.\n",
    "\n",
    "#### Regresiones robustas.\n",
    "1. **Ransac**: Random Sample Consensus, Muestreo aleatorio, donde se busca incluir mas datos bueno, hace convinaciones para mejorar el modelo. El modelo asume que los valores malos no tienen patrones especificos.\n",
    "2. **Huber Regressor**. No intenta excluir los valores atipicos como el RANSAC si no que los penaliza, disminuye su influencia en el modelo. Son tratados como atipicos si el valor del error absoluto de su perdida esta por encima de un umbral llamado epsilon, se ha identificado que un valor de epsilon de 1.35 logra un 95% de eficiencia estadistica."
   ]
  },
  {
   "cell_type": "code",
   "execution_count": 6,
   "metadata": {},
   "outputs": [
    {
     "data": {
      "text/html": [
       "<div>\n",
       "<style scoped>\n",
       "    .dataframe tbody tr th:only-of-type {\n",
       "        vertical-align: middle;\n",
       "    }\n",
       "\n",
       "    .dataframe tbody tr th {\n",
       "        vertical-align: top;\n",
       "    }\n",
       "\n",
       "    .dataframe thead th {\n",
       "        text-align: right;\n",
       "    }\n",
       "</style>\n",
       "<table border=\"1\" class=\"dataframe\">\n",
       "  <thead>\n",
       "    <tr style=\"text-align: right;\">\n",
       "      <th></th>\n",
       "      <th>country</th>\n",
       "      <th>rank</th>\n",
       "      <th>score</th>\n",
       "      <th>high</th>\n",
       "      <th>low</th>\n",
       "      <th>gdp</th>\n",
       "      <th>family</th>\n",
       "      <th>lifexp</th>\n",
       "      <th>freedom</th>\n",
       "      <th>generosity</th>\n",
       "      <th>corruption</th>\n",
       "      <th>dystopia</th>\n",
       "    </tr>\n",
       "  </thead>\n",
       "  <tbody>\n",
       "    <tr>\n",
       "      <th>162</th>\n",
       "      <td>H</td>\n",
       "      <td>163</td>\n",
       "      <td>0.0</td>\n",
       "      <td>0.0</td>\n",
       "      <td>0.0</td>\n",
       "      <td>0.0</td>\n",
       "      <td>0.0</td>\n",
       "      <td>0.0</td>\n",
       "      <td>0.0</td>\n",
       "      <td>0.0</td>\n",
       "      <td>0.0</td>\n",
       "      <td>0.0</td>\n",
       "    </tr>\n",
       "    <tr>\n",
       "      <th>163</th>\n",
       "      <td>I</td>\n",
       "      <td>164</td>\n",
       "      <td>0.0</td>\n",
       "      <td>0.0</td>\n",
       "      <td>0.0</td>\n",
       "      <td>0.0</td>\n",
       "      <td>0.0</td>\n",
       "      <td>0.0</td>\n",
       "      <td>0.0</td>\n",
       "      <td>0.0</td>\n",
       "      <td>0.0</td>\n",
       "      <td>0.0</td>\n",
       "    </tr>\n",
       "    <tr>\n",
       "      <th>164</th>\n",
       "      <td>J</td>\n",
       "      <td>165</td>\n",
       "      <td>0.0</td>\n",
       "      <td>0.0</td>\n",
       "      <td>0.0</td>\n",
       "      <td>0.0</td>\n",
       "      <td>0.0</td>\n",
       "      <td>0.0</td>\n",
       "      <td>0.0</td>\n",
       "      <td>0.0</td>\n",
       "      <td>0.0</td>\n",
       "      <td>0.0</td>\n",
       "    </tr>\n",
       "    <tr>\n",
       "      <th>165</th>\n",
       "      <td>K</td>\n",
       "      <td>166</td>\n",
       "      <td>0.0</td>\n",
       "      <td>0.0</td>\n",
       "      <td>0.0</td>\n",
       "      <td>0.0</td>\n",
       "      <td>0.0</td>\n",
       "      <td>0.0</td>\n",
       "      <td>0.0</td>\n",
       "      <td>0.0</td>\n",
       "      <td>0.0</td>\n",
       "      <td>0.0</td>\n",
       "    </tr>\n",
       "    <tr>\n",
       "      <th>166</th>\n",
       "      <td>L</td>\n",
       "      <td>167</td>\n",
       "      <td>0.0</td>\n",
       "      <td>0.0</td>\n",
       "      <td>0.0</td>\n",
       "      <td>0.0</td>\n",
       "      <td>0.0</td>\n",
       "      <td>0.0</td>\n",
       "      <td>0.0</td>\n",
       "      <td>0.0</td>\n",
       "      <td>0.0</td>\n",
       "      <td>0.0</td>\n",
       "    </tr>\n",
       "  </tbody>\n",
       "</table>\n",
       "</div>"
      ],
      "text/plain": [
       "    country  rank  score  high  low  gdp  family  lifexp  freedom  generosity  \\\n",
       "162       H   163    0.0   0.0  0.0  0.0     0.0     0.0      0.0         0.0   \n",
       "163       I   164    0.0   0.0  0.0  0.0     0.0     0.0      0.0         0.0   \n",
       "164       J   165    0.0   0.0  0.0  0.0     0.0     0.0      0.0         0.0   \n",
       "165       K   166    0.0   0.0  0.0  0.0     0.0     0.0      0.0         0.0   \n",
       "166       L   167    0.0   0.0  0.0  0.0     0.0     0.0      0.0         0.0   \n",
       "\n",
       "     corruption  dystopia  \n",
       "162         0.0       0.0  \n",
       "163         0.0       0.0  \n",
       "164         0.0       0.0  \n",
       "165         0.0       0.0  \n",
       "166         0.0       0.0  "
      ]
     },
     "execution_count": 6,
     "metadata": {},
     "output_type": "execute_result"
    }
   ],
   "source": [
    "import pandas as pd\n",
    "df = pd.read_csv('./felicidad_corrupt.csv')\n",
    "df.tail(5)"
   ]
  },
  {
   "cell_type": "code",
   "execution_count": 5,
   "metadata": {},
   "outputs": [],
   "source": [
    "from sklearn.linear_model import (\n",
    "    RANSACRegressor, # es un metaestimador, por defecto toma a una reg.lineal\n",
    "    HuberRegressor # el epsilon mayor permite mas valores atipicos\n",
    ")\n",
    "# para SVR el gamma deber ser auto\n",
    "from sklearn.svm import SVR\n",
    "from sklearn.model_selection import train_test_split\n",
    "from sklearn.metrics import mean_squared_error"
   ]
  },
  {
   "cell_type": "code",
   "execution_count": 8,
   "metadata": {},
   "outputs": [],
   "source": [
    "X = df.drop(['country','score'], axis=1)\n",
    "y = df[['score']]\n",
    "X_train,X_test,y_train,y_test=train_test_split(X,y,test_size=0.3,random_state=42)\n",
    "\n",
    "# Estructura de datos para agilizar el entrenamiento de modelos\n",
    "estimadores = {\n",
    "    'SVR':SVR(gamma='auto',C=1.0,epsilon=0.1),\n",
    "    'RANSAC': RANSACRegressor(),\n",
    "    'HUBER' : HuberRegressor(epsilon=1.35)\n",
    "}"
   ]
  },
  {
   "cell_type": "code",
   "execution_count": 9,
   "metadata": {},
   "outputs": [
    {
     "name": "stdout",
     "output_type": "stream",
     "text": [
      "------------------------------------------------------------------------------------------------------------------------------------------------------\n",
      "SVR\n",
      "MSE:  0.07455771301888525\n",
      "------------------------------------------------------------------------------------------------------------------------------------------------------\n",
      "RANSAC\n",
      "MSE:  1.2756393823693603e-19\n",
      "------------------------------------------------------------------------------------------------------------------------------------------------------\n",
      "HUBER\n",
      "MSE:  2.297192346394143e-06\n"
     ]
    },
    {
     "name": "stderr",
     "output_type": "stream",
     "text": [
      "/home/frluengas/anaconda3/envs/py39/lib/python3.9/site-packages/sklearn/utils/validation.py:985: DataConversionWarning: A column-vector y was passed when a 1d array was expected. Please change the shape of y to (n_samples, ), for example using ravel().\n",
      "  y = column_or_1d(y, warn=True)\n",
      "/home/frluengas/anaconda3/envs/py39/lib/python3.9/site-packages/sklearn/utils/validation.py:985: DataConversionWarning: A column-vector y was passed when a 1d array was expected. Please change the shape of y to (n_samples, ), for example using ravel().\n",
      "  y = column_or_1d(y, warn=True)\n",
      "/home/frluengas/anaconda3/envs/py39/lib/python3.9/site-packages/sklearn/linear_model/_huber.py:332: ConvergenceWarning: lbfgs failed to converge (status=1):\n",
      "STOP: TOTAL NO. of ITERATIONS REACHED LIMIT.\n",
      "\n",
      "Increase the number of iterations (max_iter) or scale the data as shown in:\n",
      "    https://scikit-learn.org/stable/modules/preprocessing.html\n",
      "  self.n_iter_ = _check_optimize_result(\"lbfgs\", opt_res, self.max_iter)\n"
     ]
    }
   ],
   "source": [
    "for name,estimador in estimadores.items():\n",
    "    estimador.fit(X_train,y_train)\n",
    "    predictions = estimador.predict(X_test)\n",
    "\n",
    "    print('---'*50)\n",
    "    print(name)\n",
    "    print(\"MSE: \",mean_squared_error(y_test,predictions))"
   ]
  }
 ],
 "metadata": {
  "interpreter": {
   "hash": "8bb79300dc1549a2a31fb0b0fd7b08596d268b1570a6503be133e0111b9b7d49"
  },
  "kernelspec": {
   "display_name": "Python 3.9.7 64-bit ('py39': conda)",
   "language": "python",
   "name": "python3"
  },
  "language_info": {
   "codemirror_mode": {
    "name": "ipython",
    "version": 3
   },
   "file_extension": ".py",
   "mimetype": "text/x-python",
   "name": "python",
   "nbconvert_exporter": "python",
   "pygments_lexer": "ipython3",
   "version": "3.9.7"
  },
  "orig_nbformat": 4
 },
 "nbformat": 4,
 "nbformat_minor": 2
}
