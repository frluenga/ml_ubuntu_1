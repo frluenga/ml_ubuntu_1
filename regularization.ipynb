{
 "cells": [
  {
   "cell_type": "code",
   "execution_count": 16,
   "metadata": {},
   "outputs": [],
   "source": [
    "import pandas as pd\n",
    "import sklearn\n",
    "import numpy as np\n",
    "\n",
    "from sklearn.linear_model import LinearRegression\n",
    "from sklearn.linear_model import Lasso\n",
    "from sklearn.linear_model import Ridge\n",
    "\n",
    "from sklearn.model_selection import train_test_split\n",
    "from sklearn.metrics import mean_squared_error"
   ]
  },
  {
   "cell_type": "code",
   "execution_count": null,
   "metadata": {},
   "outputs": [],
   "source": [
    "dataset = pd.read_csv('./felicidad.csv')\n",
    "print(dataset.describe())"
   ]
  },
  {
   "cell_type": "code",
   "execution_count": 5,
   "metadata": {},
   "outputs": [],
   "source": [
    "X = dataset[['gdp','family','lifexp','freedom','corruption','generosity','dystopia']]\n",
    "y = dataset[['score']]"
   ]
  },
  {
   "cell_type": "code",
   "execution_count": 7,
   "metadata": {},
   "outputs": [
    {
     "data": {
      "text/plain": [
       "((155, 7), (155, 1))"
      ]
     },
     "execution_count": 7,
     "metadata": {},
     "output_type": "execute_result"
    }
   ],
   "source": [
    "X.shape,y.shape"
   ]
  },
  {
   "cell_type": "code",
   "execution_count": 8,
   "metadata": {},
   "outputs": [],
   "source": [
    "X_train,X_test,y_train,y_test = train_test_split(X,y,test_size=0.25)"
   ]
  },
  {
   "cell_type": "code",
   "execution_count": 10,
   "metadata": {},
   "outputs": [],
   "source": [
    "modelLinear = LinearRegression().fit(X_train,y_train)\n",
    "y_predict_linear = modelLinear.predict(X_test)\n",
    "\n",
    "# entre mas grande el alpha o lambda mas penalización\n",
    "modelLasso = Lasso(alpha=0.02).fit(X_train,y_train)\n",
    "y_predict_lasso = modelLasso.predict(X_test)\n",
    "\n",
    "modelRidge = Ridge(alpha=1).fit(X_train,y_train)\n",
    "y_predict_ridge = modelRidge.predict(X_test)"
   ]
  },
  {
   "cell_type": "code",
   "execution_count": 12,
   "metadata": {},
   "outputs": [
    {
     "data": {
      "text/plain": [
       "(7.680765821349426e-08, 0.047310619851779874, 0.00608113539188552)"
      ]
     },
     "execution_count": 12,
     "metadata": {},
     "output_type": "execute_result"
    }
   ],
   "source": [
    "# Identificar las perdidas por modelo\n",
    "linear_loss = mean_squared_error(y_test,y_predict_linear)\n",
    "lasso_loss = mean_squared_error(y_test,y_predict_lasso)\n",
    "ridge_loss = mean_squared_error(y_test,y_predict_ridge)\n",
    "linear_loss,lasso_loss,ridge_loss"
   ]
  },
  {
   "cell_type": "code",
   "execution_count": 33,
   "metadata": {},
   "outputs": [],
   "source": [
    "lasso_coef = modelLasso.coef_.reshape(1,7)\n",
    "ridge_coef = modelRidge.coef_.reshape(1,7)\n",
    "linear_coef = modelLinear.coef_.reshape(1,7)"
   ]
  }
 ],
 "metadata": {
  "interpreter": {
   "hash": "8bb79300dc1549a2a31fb0b0fd7b08596d268b1570a6503be133e0111b9b7d49"
  },
  "kernelspec": {
   "display_name": "Python 3.9.7 64-bit ('py39': conda)",
   "language": "python",
   "name": "python3"
  },
  "language_info": {
   "codemirror_mode": {
    "name": "ipython",
    "version": 3
   },
   "file_extension": ".py",
   "mimetype": "text/x-python",
   "name": "python",
   "nbconvert_exporter": "python",
   "pygments_lexer": "ipython3",
   "version": "3.9.7"
  },
  "orig_nbformat": 4
 },
 "nbformat": 4,
 "nbformat_minor": 2
}
